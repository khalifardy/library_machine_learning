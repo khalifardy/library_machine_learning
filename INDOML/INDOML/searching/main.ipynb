{
 "cells": [
  {
   "cell_type": "code",
   "execution_count": 1,
   "metadata": {},
   "outputs": [],
   "source": [
    "from evolutionary import AlgoritmaGenetika\n",
    "import numpy as np"
   ]
  },
  {
   "cell_type": "code",
   "execution_count": 2,
   "metadata": {},
   "outputs": [],
   "source": [
    "def fitness_function(lst):\n",
    "    return np.cos((lst[0]**2)*np.sin(lst[1]**2)) + (lst[0]+lst[1])\n",
    "\n",
    "isi_kromosom = {\n",
    "    0: np.arange(-1.0, 2.0, 0.1).tolist(),\n",
    "    1: np.arange(-1.0, 1, 0.1).tolist()\n",
    "}\n",
    "\n",
    "partisi = 2"
   ]
  },
  {
   "cell_type": "code",
   "execution_count": 3,
   "metadata": {},
   "outputs": [
    {
     "ename": "Exception",
     "evalue": "Partisi kromosom harus lebih dari 2",
     "output_type": "error",
     "traceback": [
      "\u001b[0;31m---------------------------------------------------------------------------\u001b[0m",
      "\u001b[0;31mException\u001b[0m                                 Traceback (most recent call last)",
      "Cell \u001b[0;32mIn[3], line 2\u001b[0m\n\u001b[1;32m      1\u001b[0m ag \u001b[38;5;241m=\u001b[39m AlgoritmaGenetika(\u001b[38;5;241m200\u001b[39m,fitness_function,partisi,isi_kromosom)\n\u001b[0;32m----> 2\u001b[0m individu_max \u001b[38;5;241m=\u001b[39m \u001b[43mag\u001b[49m\u001b[38;5;241;43m.\u001b[39;49m\u001b[43mfit\u001b[49m\u001b[43m(\u001b[49m\u001b[38;5;124;43m\"\u001b[39;49m\u001b[38;5;124;43mdouble\u001b[39;49m\u001b[38;5;124;43m\"\u001b[39;49m\u001b[43m)\u001b[49m\n",
      "File \u001b[0;32m~/Dokumen/ruang_kerja/code/research/library_machine_learning/INDOML/INDOML/searching/evolutionary.py:105\u001b[0m, in \u001b[0;36mAlgoritmaGenetika.fit\u001b[0;34m(self, crossover)\u001b[0m\n\u001b[1;32m    103\u001b[0m count \u001b[38;5;241m=\u001b[39m \u001b[38;5;241m0\u001b[39m\n\u001b[1;32m    104\u001b[0m \u001b[38;5;28;01mif\u001b[39;00m crossover \u001b[38;5;241m==\u001b[39m \u001b[38;5;124m'\u001b[39m\u001b[38;5;124mdouble\u001b[39m\u001b[38;5;124m'\u001b[39m \u001b[38;5;129;01mand\u001b[39;00m \u001b[38;5;28mself\u001b[39m\u001b[38;5;241m.\u001b[39mpartisi_kromosom \u001b[38;5;241m<\u001b[39m\u001b[38;5;241m=\u001b[39m\u001b[38;5;241m2\u001b[39m:\n\u001b[0;32m--> 105\u001b[0m     \u001b[38;5;28;01mraise\u001b[39;00m \u001b[38;5;167;01mException\u001b[39;00m(\u001b[38;5;124m\"\u001b[39m\u001b[38;5;124mPartisi kromosom harus lebih dari 2\u001b[39m\u001b[38;5;124m\"\u001b[39m)\n\u001b[1;32m    106\u001b[0m \u001b[38;5;28;01mwhile\u001b[39;00m \u001b[38;5;28;01mTrue\u001b[39;00m:\n\u001b[1;32m    107\u001b[0m     max_gen \u001b[38;5;241m=\u001b[39m \u001b[38;5;28mmax\u001b[39m([\u001b[38;5;28mself\u001b[39m\u001b[38;5;241m.\u001b[39mfitness_function(individu) \u001b[38;5;28;01mfor\u001b[39;00m individu \u001b[38;5;129;01min\u001b[39;00m populasi])\n",
      "\u001b[0;31mException\u001b[0m: Partisi kromosom harus lebih dari 2"
     ]
    }
   ],
   "source": [
    "ag = AlgoritmaGenetika(200,fitness_function,partisi,isi_kromosom)\n",
    "individu_max = ag.fit()"
   ]
  },
  {
   "cell_type": "code",
   "execution_count": null,
   "metadata": {},
   "outputs": [],
   "source": [
    "individu_max"
   ]
  }
 ],
 "metadata": {
  "kernelspec": {
   "display_name": ".env",
   "language": "python",
   "name": "python3"
  },
  "language_info": {
   "codemirror_mode": {
    "name": "ipython",
    "version": 3
   },
   "file_extension": ".py",
   "mimetype": "text/x-python",
   "name": "python",
   "nbconvert_exporter": "python",
   "pygments_lexer": "ipython3",
   "version": "3.12.2"
  }
 },
 "nbformat": 4,
 "nbformat_minor": 2
}
